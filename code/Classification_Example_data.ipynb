{
 "cells": [
  {
   "cell_type": "code",
   "execution_count": 1,
   "id": "d2abd9df-1c00-4bd1-9649-2b21e68f9eb6",
   "metadata": {},
   "outputs": [
    {
     "data": {
      "text/plain": [
       "'\\njupyter notebook used for classification\\n\\nauthor: Anton Thieme <anton@thiemenet.de>\\n'"
      ]
     },
     "execution_count": 1,
     "metadata": {},
     "output_type": "execute_result"
    }
   ],
   "source": [
    "\"\"\"\n",
    "jupyter notebook used for demonstration of the classification with the example data\n",
    "\n",
    "author: Anton Thieme <anton@thiemenet.de>\n",
    "\"\"\""
   ]
  },
  {
   "cell_type": "code",
   "execution_count": 1,
   "id": "933ff457",
   "metadata": {},
   "outputs": [],
   "source": [
    "import os\n",
    "import pandas as pd\n",
    "import matplotlib.pyplot as plt\n",
    "import seaborn as sns\n",
    "import numpy as np\n",
    "import itertools\n",
    "import math\n",
    "import scienceplots\n",
    "\n",
    "from scipy import stats\n",
    "from scipy.optimize import curve_fit, fmin_slsqp\n",
    "from sklearn.metrics import accuracy_score, roc_auc_score, f1_score, recall_score, precision_score\n",
    "from sklearn.ensemble import RandomForestClassifier\n",
    "from sklearn.gaussian_process import GaussianProcessClassifier\n",
    "from sklearn.gaussian_process.kernels import RBF\n",
    "from sklearn.decomposition import PCA\n",
    "from matplotlib.patches import Patch\n",
    "from scipy.signal import argrelextrema, find_peaks\n",
    "from sklearn.model_selection import LeaveOneOut\n",
    "from sklearn.metrics import confusion_matrix\n",
    "from sklearn.metrics import plot_confusion_matrix\n",
    "from sklearn.tree import export_graphviz\n",
    "from sklearn.preprocessing import StandardScaler\n",
    "from joblib import dump, load\n",
    "\n",
    "from Analysis.Auxiliary import *\n",
    "from Figures.Kinetics import *"
   ]
  },
  {
   "cell_type": "code",
   "execution_count": 9,
   "id": "16b55af7",
   "metadata": {},
   "outputs": [],
   "source": [
    "# DEFINE STATIC VARIABLES\n",
    "\n",
    "plt.style.use(['science', 'no-latex', 'nature'])\n",
    "plt.rcParams['svg.fonttype'] = 'none'\n",
    "\n",
    "# set path to example data which contains data from a 25% and a 75% MT chip\n",
    "PATH_EXAMPLE = r\"/Example_data\"\n",
    "\n",
    "EDGE_CUTOFF = 0.05\n",
    "CLASSIFY_FRAME_15h = 13 #2h\n",
    "MIN_FRAME = 3\n",
    "N_CLASS_MEMBERS = 15000\n",
    "NEG_PROB_CUTOFF = 1e-500\n",
    "\n",
    "FEATURES_NORM = ['feat_fq_delta_final', 'feat_fq_delta_max', 'feat_fq_delta_avg', 'feat_fq_delta_area_final', 'feat_fq_delta_velocity_final',\n",
    "       'feat_fq_delta_velocity_max', 'feat_fq_delta_velocity_min',\n",
    "       'feat_fq_delta_velocity_avg']\n",
    "\n",
    "FEATURES_ORIG = ['feat_fq_delta_tp_max',\n",
    "       'feat_fq_delta_tp_min', 'feat_fq_delta_tp_avg', 'feat_fq_delta_velocity_tp_max',\n",
    "       'feat_fq_delta_velocity_tp_min', 'feat_fq_delta_velocity_tp_avg', 'feat_tp_start_active']"
   ]
  },
  {
   "cell_type": "code",
   "execution_count": 5,
   "id": "f6312468-8bc3-4744-a231-16cb2a7005e6",
   "metadata": {},
   "outputs": [],
   "source": [
    "# set path and load classifier\n",
    "forest = load('/Model/forest.joblib')\n",
    "scaler = load('/Model/scaler.joblib')\n",
    "pca = load('/Model/pca.joblib')"
   ]
  },
  {
   "cell_type": "code",
   "execution_count": 10,
   "id": "97c0608a",
   "metadata": {},
   "outputs": [
    {
     "ename": "FileNotFoundError",
     "evalue": "[WinError 3] The system cannot find the path specified: '\\\\Example_data'",
     "output_type": "error",
     "traceback": [
      "\u001b[1;31m---------------------------------------------------------------------------\u001b[0m",
      "\u001b[1;31mFileNotFoundError\u001b[0m                         Traceback (most recent call last)",
      "Cell \u001b[1;32mIn[10], line 1\u001b[0m\n\u001b[1;32m----> 1\u001b[0m df_example \u001b[38;5;241m=\u001b[39m \u001b[43mbatch_load_and_combine\u001b[49m\u001b[43m(\u001b[49m\u001b[43mPATH_EXAMPLE\u001b[49m\u001b[43m,\u001b[49m\u001b[43m \u001b[49m\u001b[38;5;124;43m'\u001b[39;49m\u001b[38;5;124;43mfeatures_\u001b[39;49m\u001b[38;5;132;43;01m{}\u001b[39;49;00m\u001b[38;5;124;43m.csv\u001b[39;49m\u001b[38;5;124;43m'\u001b[39;49m\u001b[38;5;241;43m.\u001b[39;49m\u001b[43mformat\u001b[49m\u001b[43m(\u001b[49m\u001b[43mCLASSIFY_FRAME_15h\u001b[49m\u001b[43m)\u001b[49m\u001b[43m)\u001b[49m\n\u001b[0;32m      3\u001b[0m df_example, X_pc_example \u001b[38;5;241m=\u001b[39m processKinetics(df_example, forest, scaler, pca, FEATURES_NORM, FEATURES_ORIG, NEG_PROB_CUTOFF)\n\u001b[0;32m      4\u001b[0m plt\u001b[38;5;241m.\u001b[39mclf()\n",
      "File \u001b[1;32m~\\PycharmProjects\\dSherlock\\Analysis\\Auxiliary.py:26\u001b[0m, in \u001b[0;36mbatch_load_and_combine\u001b[1;34m(experiment_path, filename)\u001b[0m\n\u001b[0;32m     23\u001b[0m uid_offset \u001b[38;5;241m=\u001b[39m \u001b[38;5;241m0\u001b[39m\n\u001b[0;32m     24\u001b[0m df_list \u001b[38;5;241m=\u001b[39m []\n\u001b[1;32m---> 26\u001b[0m \u001b[38;5;28;01mfor\u001b[39;00m file_or_folder \u001b[38;5;129;01min\u001b[39;00m os\u001b[38;5;241m.\u001b[39mlistdir(experiment_path):\n\u001b[0;32m     28\u001b[0m     path \u001b[38;5;241m=\u001b[39m os\u001b[38;5;241m.\u001b[39mpath\u001b[38;5;241m.\u001b[39mjoin(experiment_path, file_or_folder)\n\u001b[0;32m     30\u001b[0m     \u001b[38;5;28;01mif\u001b[39;00m os\u001b[38;5;241m.\u001b[39mpath\u001b[38;5;241m.\u001b[39misdir(path):\n",
      "\u001b[1;31mFileNotFoundError\u001b[0m: [WinError 3] The system cannot find the path specified: '\\\\Example_data'"
     ]
    }
   ],
   "source": [
    "df_example = batch_load_and_combine(PATH_EXAMPLE, 'features_{}.csv'.format(CLASSIFY_FRAME_15h))\n",
    "\n",
    "df_example, X_pc_example = processKinetics(df_example, forest, scaler, pca, FEATURES_NORM, FEATURES_ORIG, NEG_PROB_CUTOFF)\n",
    "plt.clf()\n",
    "\n",
    "df_example['set'] = df_example['set'] + '_example'\n",
    "\n",
    "fig, set_df = plotAdmix(df_example, [], 'Admix')\n",
    "plt.show()"
   ]
  },
  {
   "cell_type": "code",
   "execution_count": null,
   "id": "a309ac71-2b91-4916-9b92-0179e7297a0b",
   "metadata": {},
   "outputs": [],
   "source": []
  }
 ],
 "metadata": {
  "kernelspec": {
   "display_name": "Python 3 (ipykernel)",
   "language": "python",
   "name": "python3"
  },
  "language_info": {
   "codemirror_mode": {
    "name": "ipython",
    "version": 3
   },
   "file_extension": ".py",
   "mimetype": "text/x-python",
   "name": "python",
   "nbconvert_exporter": "python",
   "pygments_lexer": "ipython3",
   "version": "3.11.4"
  }
 },
 "nbformat": 4,
 "nbformat_minor": 5
}
