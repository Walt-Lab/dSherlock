{
 "cells": [
  {
   "cell_type": "code",
   "execution_count": 1,
   "id": "d2abd9df-1c00-4bd1-9649-2b21e68f9eb6",
   "metadata": {},
   "outputs": [
    {
     "data": {
      "text/plain": [
       "'\\njupyter notebook used for demonstration of the classification with the example data and the pre-trained model\\n\\nauthor: Anton Thieme <anton@thiemenet.de>\\n'"
      ]
     },
     "execution_count": 1,
     "metadata": {},
     "output_type": "execute_result"
    }
   ],
   "source": [
    "\"\"\"\n",
    "jupyter notebook used for demonstration of the classification with the example data and the pre-trained model\n",
    "\n",
    "author: Anton Thieme <anton@thiemenet.de>\n",
    "\"\"\""
   ]
  },
  {
   "cell_type": "code",
   "execution_count": 1,
   "id": "933ff457",
   "metadata": {},
   "outputs": [],
   "source": [
    "import os\n",
    "import pandas as pd\n",
    "import matplotlib.pyplot as plt\n",
    "import seaborn as sns\n",
    "import numpy as np\n",
    "import itertools\n",
    "import math\n",
    "import scienceplots\n",
    "\n",
    "from scipy import stats\n",
    "from scipy.optimize import curve_fit, fmin_slsqp\n",
    "from sklearn.metrics import accuracy_score, roc_auc_score, f1_score, recall_score, precision_score\n",
    "from sklearn.ensemble import RandomForestClassifier\n",
    "from sklearn.gaussian_process import GaussianProcessClassifier\n",
    "from sklearn.gaussian_process.kernels import RBF\n",
    "from sklearn.decomposition import PCA\n",
    "from matplotlib.patches import Patch\n",
    "from scipy.signal import argrelextrema, find_peaks\n",
    "from sklearn.model_selection import LeaveOneOut\n",
    "from sklearn.metrics import confusion_matrix\n",
    "from sklearn.metrics import plot_confusion_matrix\n",
    "from sklearn.tree import export_graphviz\n",
    "from sklearn.preprocessing import StandardScaler\n",
    "from joblib import dump, load\n",
    "\n",
    "from Analysis.Auxiliary import *\n",
    "from Figures.Kinetics import *\n",
    "\n",
    "%matplotlib inline"
   ]
  },
  {
   "cell_type": "code",
   "execution_count": 2,
   "id": "16b55af7",
   "metadata": {},
   "outputs": [],
   "source": [
    "### DEFINE STATIC VARIABLES\n",
    "\n",
    "# pyplot preferences\n",
    "plt.style.use(['science', 'no-latex', 'nature'])\n",
    "plt.rcParams['svg.fonttype'] = 'none'\n",
    "\n",
    "# set path to example data which contains data from a 25% and a 75% MT chip\n",
    "PATH_EXAMPLE = r\"../data/Example_data/Classification\"\n",
    "\n",
    "\n",
    "EDGE_CUTOFF = 0.05\n",
    "\n",
    "# frame at which classification should take place for 15h, 10min/frame experiments\n",
    "CLASSIFY_FRAME_15h = 13 #2h\n",
    "\n",
    "# continuous features\n",
    "FEATURES_NORM = ['feat_fq_delta_final', 'feat_fq_delta_max', 'feat_fq_delta_avg', 'feat_fq_delta_area_final', 'feat_fq_delta_velocity_final',\n",
    "       'feat_fq_delta_velocity_max', 'feat_fq_delta_velocity_min',\n",
    "       'feat_fq_delta_velocity_avg']\n",
    "\n",
    "# discrete features\n",
    "FEATURES_ORIG = ['feat_fq_delta_tp_max',\n",
    "       'feat_fq_delta_tp_min', 'feat_fq_delta_tp_avg', 'feat_fq_delta_velocity_tp_max',\n",
    "       'feat_fq_delta_velocity_tp_min', 'feat_fq_delta_velocity_tp_avg', 'feat_tp_start_active']"
   ]
  },
  {
   "cell_type": "code",
   "execution_count": 3,
   "id": "f6312468-8bc3-4744-a231-16cb2a7005e6",
   "metadata": {},
   "outputs": [],
   "source": [
    "# set path and load classifier\n",
    "forest = load('../Model/forest.joblib')\n",
    "scaler = load('../Model/scaler.joblib')\n",
    "pca = load('../Model/pca.joblib')"
   ]
  },
  {
   "cell_type": "code",
   "execution_count": 4,
   "id": "97c0608a",
   "metadata": {},
   "outputs": [
    {
     "name": "stdout",
     "output_type": "stream",
     "text": [
      "Range: 880.1828544512093 - 1716.0264922504803\n",
      "#####\n",
      "[982.30813024]\n",
      "[82166.36389785]\n",
      "MT_25_WT_75\n"
     ]
    },
    {
     "data": {
      "image/png": "[encoded data removed]",
      "text/plain": [
       "<Figure size 330x250 with 1 Axes>"
      ]
     },
     "metadata": {},
     "output_type": "display_data"
    },
    {
     "name": "stdout",
     "output_type": "stream",
     "text": [
      "[1.69036708e-034 1.63908096e-083 0.00000000e+000 ... 0.00000000e+000\n",
      " 4.29751043e-029 4.78402774e-219]\n",
      "Range: 715.0407356722845 - 1409.546053311281\n",
      "#####\n",
      "[732.73886442]\n",
      "[30914.16330369]\n",
      "MT_75_WT_25\n"
     ]
    },
    {
     "data": {
      "image/png": "[encoded data removed]",
      "text/plain": [
       "<Figure size 330x250 with 1 Axes>"
      ]
     },
     "metadata": {},
     "output_type": "display_data"
    },
    {
     "name": "stdout",
     "output_type": "stream",
     "text": [
      "[0.00000000e+000 0.00000000e+000 1.14417166e-130 ... 4.52558263e-088\n",
      " 0.00000000e+000 0.00000000e+000]\n",
      "       index  Unnamed: 0    UID            y            x  time  \\\n",
      "0        342        4458    343   286.822785   570.455696   120   \n",
      "1        347        4523    348   286.878378   363.000000   120   \n",
      "2        348        4536    349   287.520000   387.440000   120   \n",
      "3        349        4549    350   287.675325   594.675325   120   \n",
      "4        350        4562    351   287.040000   777.653333   120   \n",
      "...      ...         ...    ...          ...          ...   ...   \n",
      "27981  17134      222754  35266  1889.550725   891.550725   120   \n",
      "27982  17135      222767  35267  1889.760000   915.986667   120   \n",
      "27983  17136      222780  35268  1889.890411   940.205479   120   \n",
      "27984  17138      222806  35270  1890.058824   989.029412   120   \n",
      "27985  17139      222819  35271  1888.833333  1684.757576   120   \n",
      "\n",
      "       feat_fq_initial  feat_rox_initial  feat_fq_delta_final  \\\n",
      "0          8369.550827       4864.392405           776.317225   \n",
      "1          8622.211757       4697.540541           654.996789   \n",
      "2          8526.060107       4577.213333         15372.752056   \n",
      "3          8372.766614       4913.584416           668.853316   \n",
      "4          8121.505888       4998.533333           837.253625   \n",
      "...                ...               ...                  ...   \n",
      "27981      8669.153757       5803.811594          5257.314149   \n",
      "27982      8666.756103       5602.720000          2471.766360   \n",
      "27983      8686.721682       5642.260274           469.128007   \n",
      "27984      8719.314536       6010.676471          3353.061021   \n",
      "27985      8870.125669       5025.636364          3716.157378   \n",
      "\n",
      "       feat_fq_delta_max  ...  feat_fq_delta_velocity_tp_max  \\\n",
      "0             776.317225  ...                             40   \n",
      "1             654.996789  ...                             30   \n",
      "2           16874.858149  ...                             40   \n",
      "3             668.853316  ...                             50   \n",
      "4             837.253625  ...                             40   \n",
      "...                  ...  ...                            ...   \n",
      "27981        5439.833986  ...                             50   \n",
      "27982        2471.766360  ...                             40   \n",
      "27983         469.128007  ...                             30   \n",
      "27984        3353.061021  ...                             40   \n",
      "27985        3716.157378  ...                             40   \n",
      "\n",
      "       feat_fq_delta_velocity_tp_min  feat_fq_delta_velocity_tp_avg  \\\n",
      "0                                 10                             30   \n",
      "1                                 10                             30   \n",
      "2                                100                             20   \n",
      "3                                 10                             30   \n",
      "4                                110                             30   \n",
      "...                              ...                            ...   \n",
      "27981                            100                             20   \n",
      "27982                             70                             20   \n",
      "27983                             10                             30   \n",
      "27984                             80                             20   \n",
      "27985                             80                             20   \n",
      "\n",
      "       feat_tp_end_active  feat_tp_start_active  feat_active_velocity  \\\n",
      "0                   100.0                    30              8.131747   \n",
      "1                    60.0                    30              7.310523   \n",
      "2                    80.0                    20            233.714614   \n",
      "3                   120.0                    30              6.089555   \n",
      "4                    70.0                    30             11.086084   \n",
      "...                   ...                   ...                   ...   \n",
      "27981                80.0                    30             79.134040   \n",
      "27982                60.0                    30             35.168821   \n",
      "27983                40.0                    30              3.476746   \n",
      "27984                60.0                    30             61.986677   \n",
      "27985                70.0                    30             59.049404   \n",
      "\n",
      "               set     z_rox      z_fq  cluster  \n",
      "0      MT_25_WT_75  0.221335  0.173637      NEG  \n",
      "1      MT_25_WT_75  0.593958  0.310714      NEG  \n",
      "2      MT_25_WT_75  0.862680  0.126391      NaN  \n",
      "3      MT_25_WT_75  0.111476  0.167472      NEG  \n",
      "4      MT_25_WT_75  0.078237  0.649138      NEG  \n",
      "...            ...       ...       ...      ...  \n",
      "27981  MT_75_WT_25  0.242069  0.065511      NaN  \n",
      "27982  MT_75_WT_25  0.170360  0.061235      NaN  \n",
      "27983  MT_75_WT_25  0.089265  0.096840      NEG  \n",
      "27984  MT_75_WT_25  0.666340  0.154963      NaN  \n",
      "27985  MT_75_WT_25  1.353933  0.423906      NaN  \n",
      "\n",
      "[27986 rows x 30 columns]\n",
      "index                            False\n",
      "Unnamed: 0                       False\n",
      "UID                              False\n",
      "y                                False\n",
      "x                                False\n",
      "time                             False\n",
      "feat_fq_initial                  False\n",
      "feat_rox_initial                 False\n",
      "feat_fq_delta_final              False\n",
      "feat_fq_delta_max                False\n",
      "feat_fq_delta_min                False\n",
      "feat_fq_delta_avg                False\n",
      "feat_fq_delta_tp_max             False\n",
      "feat_fq_delta_tp_min             False\n",
      "feat_fq_delta_tp_avg             False\n",
      "feat_fq_delta_area_final         False\n",
      "feat_fq_delta_velocity_final     False\n",
      "feat_fq_delta_velocity_max       False\n",
      "feat_fq_delta_velocity_min       False\n",
      "feat_fq_delta_velocity_avg       False\n",
      "feat_fq_delta_velocity_tp_max    False\n",
      "feat_fq_delta_velocity_tp_min    False\n",
      "feat_fq_delta_velocity_tp_avg    False\n",
      "feat_tp_end_active               False\n",
      "feat_tp_start_active             False\n",
      "feat_active_velocity             False\n",
      "set                              False\n",
      "z_rox                            False\n",
      "z_fq                             False\n",
      "cluster                           True\n",
      "dtype: bool\n",
      "0        MT_25_WT_75_example\n",
      "1        MT_25_WT_75_example\n",
      "2        MT_25_WT_75_example\n",
      "3        MT_25_WT_75_example\n",
      "4        MT_25_WT_75_example\n",
      "                ...         \n",
      "27981    MT_75_WT_25_example\n",
      "27982    MT_75_WT_25_example\n",
      "27983    MT_75_WT_25_example\n",
      "27984    MT_75_WT_25_example\n",
      "27985    MT_75_WT_25_example\n",
      "Name: set, Length: 27986, dtype: object\n"
     ]
    },
    {
     "data": {
      "image/png": "[encoded data removed]",
      "text/plain": [
       "<Figure size 330x250 with 1 Axes>"
      ]
     },
     "metadata": {},
     "output_type": "display_data"
    }
   ],
   "source": [
    "df_example = batch_load_and_combine(PATH_EXAMPLE, 'features_{}.csv'.format(CLASSIFY_FRAME_15h))\n",
    "\n",
    "df_example, X_pc_example = processKinetics(df_example, forest, scaler, pca, FEATURES_NORM, FEATURES_ORIG)\n",
    "plt.clf()\n",
    "\n",
    "df_example['set'] = df_example['set'] + '_example'\n",
    "print(df_example[\"set\"])\n",
    "\n",
    "fig = plotAdmix(df_example, [], 'Admix')\n",
    "plt.ylim(0)\n",
    "plt.show()"
   ]
  },
  {
   "cell_type": "code",
   "execution_count": null,
   "id": "a309ac71-2b91-4916-9b92-0179e7297a0b",
   "metadata": {},
   "outputs": [],
   "source": []
  },
  {
   "cell_type": "code",
   "execution_count": null,
   "id": "5d8c0450",
   "metadata": {},
   "outputs": [],
   "source": []
  }
 ],
 "metadata": {
  "kernelspec": {
   "display_name": "Python 3 (ipykernel)",
   "language": "python",
   "name": "python3"
  },
  "language_info": {
   "codemirror_mode": {
    "name": "ipython",
    "version": 3
   },
   "file_extension": ".py",
   "mimetype": "text/x-python",
   "name": "python",
   "nbconvert_exporter": "python",
   "pygments_lexer": "ipython3",
   "version": "3.9.19"
  }
 },
 "nbformat": 4,
 "nbformat_minor": 5
}
